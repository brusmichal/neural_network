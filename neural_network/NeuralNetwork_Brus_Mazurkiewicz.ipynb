{
 "cells": [
  {
   "cell_type": "markdown",
   "id": "e086c2ac-05bc-4b3a-bc44-52699fc0e8f0",
   "metadata": {
    "tags": []
   },
   "source": [
    "# WSI - laboratorium 5\n",
    "\n",
    "Zadanie: \"Sztuczne sieci neuronowe\"\n",
    "\n",
    "Autorzy: Michał Brus (299106) i Jakub Mazurkiewicz (300226)\n",
    "\n",
    "## Wczytywanie zbioru MNIST\n",
    "\n",
    "### Klasa bazowa\n",
    "\n",
    "Poniższa klasa jest klasą bazową dla zbiorów obrazów ręcznie ręcznie rysowanych cyfr o rozmiarach 8x8 oraz 28x28 pikseli."
   ]
  },
  {
   "cell_type": "code",
   "execution_count": 1,
   "id": "f322ed26-889b-4473-aef6-e1f434a1e64e",
   "metadata": {},
   "outputs": [],
   "source": [
    "class MnistSetBase:\n",
    "    def __init__(self):\n",
    "        self.training_set = []\n",
    "        self.validating_set = []\n",
    "        self.testing_set = []\n",
    "\n",
    "    def get_training_set(self):\n",
    "        return self.training_set\n",
    "\n",
    "    def get_validating_set(self):\n",
    "        return self.validating_set\n",
    "\n",
    "    def get_testing_set(self):\n",
    "        return self.training_set"
   ]
  },
  {
   "cell_type": "markdown",
   "id": "9360f8fd-3b4b-4a1a-8ebc-8108f9324f97",
   "metadata": {},
   "source": [
    "### Zbiór obrazów 8x8\n",
    "\n",
    "Zbiór obrazów 8x8 pochodzi z pakietu `sklearn`."
   ]
  },
  {
   "cell_type": "code",
   "execution_count": 2,
   "id": "e1467735-2adb-49ac-9502-de0b8092d8c9",
   "metadata": {},
   "outputs": [],
   "source": [
    "from sklearn.datasets import load_digits\n",
    "from sklearn.model_selection import train_test_split\n",
    "\n",
    "class MnistSet8(MnistSetBase):\n",
    "    def __init__(self):\n",
    "        digits = load_digits()\n",
    "        images = [(self._adjust_pixels(pixels), label) for pixels, label in zip(digits.data, digits.target)]\n",
    "        self.training_set, self.testing_set = train_test_split(images)\n",
    "        self.training_set, self.validating_set = train_test_split(self.training_set)\n",
    "\n",
    "    def _adjust_pixels(self, pixels):\n",
    "        return [pixel / 16 for pixel in pixels]"
   ]
  },
  {
   "cell_type": "markdown",
   "id": "2883528c-e42c-48e7-9e24-0561b831e4c3",
   "metadata": {},
   "source": [
    "### Zbiór obrazów 28x28\n",
    "\n",
    "Zbiór obrazów 28x28 pochodzi ze strony internetowej [http://yann.lecun.com/exdb/mnist/](http://yann.lecun.com/exdb/mnist/)."
   ]
  },
  {
   "cell_type": "code",
   "execution_count": 3,
   "id": "4a522a54-962e-455c-9cc9-07907362bef2",
   "metadata": {},
   "outputs": [],
   "source": [
    "class MnistSet28(MnistSetBase):\n",
    "    def __init__(self):\n",
    "        self.training_set = self._read_set('train-labels.idx1-ubyte', 'train-images.idx3-ubyte')\n",
    "        self.training_set, self.validating_set = train_test_split(self.training_set)\n",
    "        self.testing_set = self._read_set('t10k-labels.idx1-ubyte', 't10k-images.idx3-ubyte')\n",
    "\n",
    "    def _read_set(self, labels_filename, pixels_filename):\n",
    "        return [\n",
    "            (self._adjust_pixels(pixels), label) for pixels, label\n",
    "            in zip(self._read_pixels(pixels_filename), self._read_labels(labels_filename))\n",
    "        ]\n",
    "    \n",
    "    def _adjust_pixels(self, pixels):\n",
    "        return [pixel / 255 for pixel in pixels]\n",
    "\n",
    "    def _read_labels(self, filename: str):\n",
    "        with open(filename, 'rb') as file:\n",
    "            assert int.from_bytes(file.read(2), byteorder='big') == 0\n",
    "            assert int.from_bytes(file.read(1), byteorder='big') == 0x08\n",
    "            assert int.from_bytes(file.read(1), byteorder='big') == 1\n",
    "            label_count = int.from_bytes(file.read(4), byteorder='big')\n",
    "            return [int.from_bytes(file.read(1), byteorder='big') for _ in range(label_count)]\n",
    "\n",
    "    def _read_pixels(self, filename: str):\n",
    "        with open(filename, 'rb') as file:\n",
    "            image_count, image_size = self._read_pixels_header(file)\n",
    "            return [file.read(image_size) for _ in range(image_count)]\n",
    "\n",
    "    def _read_pixels_header(self, file):\n",
    "        assert int.from_bytes(file.read(2), byteorder='big') == 0\n",
    "        assert int.from_bytes(file.read(1), byteorder='big') == 0x08\n",
    "        assert int.from_bytes(file.read(1), byteorder='big') == 3\n",
    "        dims = [int.from_bytes(file.read(4), byteorder='big') for _ in range(3)]\n",
    "        return dims[0], dims[1] * dims[2]"
   ]
  },
  {
   "cell_type": "markdown",
   "id": "69f963ed-fe7a-4f35-9715-880fe44633cf",
   "metadata": {},
   "source": [
    "## Przygotowanie sztucznej sieci neuronowej\n",
    "\n",
    "### Przyjęte funkcje aktywacji"
   ]
  },
  {
   "cell_type": "code",
   "execution_count": 4,
   "id": "323c7f4f-40f2-429c-990d-f9e5d64d5524",
   "metadata": {},
   "outputs": [],
   "source": [
    "import numpy as np\n",
    "\n",
    "def sigmoid(x):\n",
    "    return 1.0 / (1.0 + np.exp(-x))\n",
    "\n",
    "def sigmoid_derivative(x):\n",
    "    return sigmoid(x) * (1 - sigmoid(x))"
   ]
  },
  {
   "cell_type": "markdown",
   "id": "87b2320b-b1e6-4fcf-8fab-114e3b391737",
   "metadata": {},
   "source": [
    "### Przyjęte funkcje straty"
   ]
  },
  {
   "cell_type": "code",
   "execution_count": 5,
   "id": "c0727ba7-407c-4d92-8b1e-e6509a2676c0",
   "metadata": {},
   "outputs": [],
   "source": [
    "def loss(predicted_y, expected_y):\n",
    "    return np.square(predicted_y - expected_y)\n",
    "\n",
    "def loss_derivative(predicted_y, expected_y):\n",
    "    return 2 * (predicted_y - expected_y)"
   ]
  },
  {
   "cell_type": "markdown",
   "id": "47486575-db95-452a-bd79-50b229f80359",
   "metadata": {},
   "source": [
    "### Klasa reprezentująca sztuczną sieć neuronową"
   ]
  },
  {
   "cell_type": "code",
   "execution_count": 6,
   "id": "11ab7eb9-7969-4bd7-9029-2ff672613dfe",
   "metadata": {},
   "outputs": [],
   "source": [
    "from numpy.random import default_rng\n",
    "\n",
    "def chunks(r, n):\n",
    "    for i in range(0, len(r), n):\n",
    "        yield r[i:i+n]\n",
    "\n",
    "class Network:\n",
    "    def __init__(self, neurons_per_layer):\n",
    "        self.number_of_layers = len(neurons_per_layer)\n",
    "        self.neurons_per_layer = neurons_per_layer\n",
    "        self.rng = default_rng()\n",
    "        inv_sqrt_first_layer_size = 1 / np.sqrt(neurons_per_layer[0])\n",
    "        self.biases = [self.rng.uniform(-inv_sqrt_first_layer_size, inv_sqrt_first_layer_size, size=(y, 1))\n",
    "                       for y in neurons_per_layer[1:]]\n",
    "        self.weights = [self.rng.uniform(-inv_sqrt_first_layer_size, inv_sqrt_first_layer_size, size=(y, x))\n",
    "                        for x, y in zip(neurons_per_layer[:-1], neurons_per_layer[1:])]\n",
    "\n",
    "    def feedforward(self, a):\n",
    "        a = np.reshape(a, (-1, 1))\n",
    "        for b, w in zip(self.biases, self.weights):\n",
    "            a = sigmoid(np.dot(w, a) + b)\n",
    "        return a\n",
    "\n",
    "    def sgd(self, training_data, mini_batch_size, learning_rate):\n",
    "        n = len(training_data)\n",
    "        self.rng.shuffle(training_data)\n",
    "        mini_batches = chunks(training_data, mini_batch_size)\n",
    "        for mini_batch in mini_batches:\n",
    "            self.update_mini_batch(mini_batch, learning_rate)\n",
    "\n",
    "    def update_mini_batch(self, mini_batch, learning_rate):\n",
    "        nabla_b = [np.zeros(b.shape) for b in self.biases]\n",
    "        nabla_w = [np.zeros(w.shape) for w in self.weights]\n",
    "\n",
    "        for x, y in mini_batch:\n",
    "            delta_nabla_b, delta_nabla_w = self.backpropagation(np.reshape(x, (-1, 1)), y)\n",
    "            nabla_b = [nb + d_nb for nb, d_nb in zip(nabla_b, delta_nabla_b)]\n",
    "            nabla_w = [nw + d_nw for nw, d_nw in zip(nabla_w, delta_nabla_w)]\n",
    "        self.biases = [b - (nb * learning_rate / len(mini_batch)) for b, nb in zip(self.biases, nabla_b)]\n",
    "        self.weights = [w - (nw * learning_rate / len(mini_batch)) for w, nw in zip(self.weights, nabla_w)]\n",
    "\n",
    "    def backpropagation(self, x, y):\n",
    "        nabla_b = [np.zeros(b.shape) for b in self.biases]\n",
    "        nabla_w = [np.zeros(w.shape) for w in self.weights]\n",
    "\n",
    "        activation = x\n",
    "        activations = [x]\n",
    "        z_vectors = []\n",
    "        for b, w in zip(self.biases, self.weights):\n",
    "            z_vector = np.dot(w, activation) + b\n",
    "            z_vectors.append(z_vector)\n",
    "            activation = sigmoid(z_vector)\n",
    "            activations.append(activation)\n",
    "        delta = loss_derivative(activations[-1], self.one_hot_encode(y)) * sigmoid_derivative(z_vectors[-1])\n",
    "        nabla_b[-1] = delta\n",
    "        nabla_w[-1] = np.dot(delta, np.transpose(activations[-2]))\n",
    "\n",
    "        for i in range(2, self.number_of_layers):\n",
    "            z_vector = z_vectors[-i]\n",
    "            delta = np.dot(self.weights[-i + 1].transpose(), delta) * sigmoid_derivative(z_vector)\n",
    "            nabla_b[-i] = delta\n",
    "            nabla_w[-i] = np.dot(delta, np.transpose(activations[-i - 1]))\n",
    "        return nabla_b, nabla_w\n",
    "\n",
    "    def evaluate(self, data_set):\n",
    "        results = [(np.argmax(self.feedforward(x)), y) for (x, y) in data_set]\n",
    "        return sum(int(x == y) for (x, y) in results)\n",
    "\n",
    "    def mse(self, test_data):\n",
    "        err = [loss(self.feedforward(x), self.one_hot_encode(y)) for (x, y) in test_data]\n",
    "        mean_err = np.mean(err)\n",
    "        return mean_err\n",
    "\n",
    "    def one_hot_encode(self, j):\n",
    "        e = np.zeros((10, 1))\n",
    "        e[j] = 1.0\n",
    "        return e"
   ]
  },
  {
   "cell_type": "markdown",
   "id": "eff2c3b6-b811-4c86-a0a9-0b6fd4aadc92",
   "metadata": {},
   "source": [
    "## Eksperymenty\n",
    "\n",
    "### Funkcja wspomagająca przeprowadzanie eksperymentów"
   ]
  },
  {
   "cell_type": "code",
   "execution_count": 12,
   "id": "8291705c-3edf-4345-9297-b18a6ce48749",
   "metadata": {},
   "outputs": [],
   "source": [
    "import matplotlib.pyplot as plt\n",
    "\n",
    "def simulation(network_layers, epochs, mini_batch_size, learning_rate):\n",
    "    network = Network(network_layers)\n",
    "    accuracy_history = []\n",
    "    mse_history = []\n",
    "    \n",
    "    print('Starting simulation...')\n",
    "    for i in range(epochs):\n",
    "        network.sgd(training_set, mini_batch_size, learning_rate)\n",
    "        valid_goods = network.evaluate(validating_set)\n",
    "        valid_accuracy = valid_goods / len(validating_set) * 100\n",
    "        goods = network.evaluate(testing_set)\n",
    "        accuracy = goods / len(testing_set) * 100\n",
    "        accuracy_history.append(accuracy)\n",
    "        mse = network.mse(testing_set)\n",
    "        mse_history.append(mse)\n",
    "        info = f'Epoch {i+1}/{epochs}'\n",
    "        print(f'{info:<15} -> valid_accuracy={valid_accuracy:.2f}%, accuracy={accuracy:.2f}%, mse={mse:.5f}')\n",
    "        \n",
    "    plt.figure()\n",
    "    plt.plot(range(1, epochs+1), accuracy_history)\n",
    "    plt.xlabel('Numer epoki')\n",
    "    plt.ylabel('Procent trafień')\n",
    "    plt.title('Trafienia sieci neuronowej w zależności od epoki')\n",
    "    plt.grid(True)\n",
    "    plt.figure()\n",
    "    plt.plot(range(1, epochs+1), mse_history)\n",
    "    plt.xlabel('Numer epoki')\n",
    "    plt.ylabel('Błąd średniokwadratowy')\n",
    "    plt.title('Błąd średniokwadratowy w zależności od epoki')\n",
    "    plt.grid(True)\n",
    "    plt.show()"
   ]
  },
  {
   "cell_type": "markdown",
   "id": "d0ee37e2-447b-41db-8d6b-9cf1237b932a",
   "metadata": {},
   "source": [
    "### Testy na zbiorze `MnistSet8`\n",
    "\n",
    "#### Załadowanie zbioru"
   ]
  },
  {
   "cell_type": "code",
   "execution_count": 13,
   "id": "00188c06-0816-4989-9555-f832fe6f9acf",
   "metadata": {},
   "outputs": [],
   "source": [
    "mnist = MnistSet8()\n",
    "training_set = mnist.get_training_set()\n",
    "validating_set = mnist.get_validating_set()\n",
    "testing_set = mnist.get_testing_set()"
   ]
  },
  {
   "cell_type": "markdown",
   "id": "467a7b2b-5c11-45c0-842e-113911be9458",
   "metadata": {},
   "source": [
    "#### Eksperyment 1"
   ]
  },
  {
   "cell_type": "code",
   "execution_count": 15,
   "id": "10b75c60-9c46-4712-991d-9e1e05720f51",
   "metadata": {},
   "outputs": [
    {
     "name": "stdout",
     "output_type": "stream",
     "text": [
      "Starting simulation...\n",
      "Epoch 1/30      -> valid_accuracy=6.23%, accuracy=10.69%, mse=0.09022\n",
      "Epoch 2/30      -> valid_accuracy=8.31%, accuracy=10.59%, mse=0.09017\n",
      "Epoch 3/30      -> valid_accuracy=9.79%, accuracy=9.80%, mse=0.09037\n",
      "Epoch 4/30      -> valid_accuracy=11.87%, accuracy=10.10%, mse=0.09036\n",
      "Epoch 5/30      -> valid_accuracy=21.36%, accuracy=20.59%, mse=0.08944\n",
      "Epoch 6/30      -> valid_accuracy=24.93%, accuracy=27.52%, mse=0.07973\n",
      "Epoch 7/30      -> valid_accuracy=27.60%, accuracy=30.89%, mse=0.07452\n",
      "Epoch 8/30      -> valid_accuracy=47.48%, accuracy=50.00%, mse=0.06462\n",
      "Epoch 9/30      -> valid_accuracy=61.13%, accuracy=64.85%, mse=0.04816\n",
      "Epoch 10/30     -> valid_accuracy=72.70%, accuracy=78.61%, mse=0.03226\n",
      "Epoch 11/30     -> valid_accuracy=79.23%, accuracy=85.45%, mse=0.02402\n",
      "Epoch 12/30     -> valid_accuracy=82.79%, accuracy=87.33%, mse=0.02106\n",
      "Epoch 13/30     -> valid_accuracy=89.91%, accuracy=92.08%, mse=0.01670\n",
      "Epoch 14/30     -> valid_accuracy=80.12%, accuracy=82.38%, mse=0.02542\n",
      "Epoch 15/30     -> valid_accuracy=90.80%, accuracy=95.84%, mse=0.00885\n",
      "Epoch 16/30     -> valid_accuracy=93.47%, accuracy=96.83%, mse=0.00681\n",
      "Epoch 17/30     -> valid_accuracy=93.47%, accuracy=97.82%, mse=0.00527\n",
      "Epoch 18/30     -> valid_accuracy=89.02%, accuracy=95.05%, mse=0.00911\n",
      "Epoch 19/30     -> valid_accuracy=94.96%, accuracy=98.22%, mse=0.00373\n",
      "Epoch 20/30     -> valid_accuracy=94.07%, accuracy=98.42%, mse=0.00325\n",
      "Epoch 21/30     -> valid_accuracy=94.07%, accuracy=98.61%, mse=0.00289\n",
      "Epoch 22/30     -> valid_accuracy=94.66%, accuracy=99.01%, mse=0.00222\n",
      "Epoch 23/30     -> valid_accuracy=91.99%, accuracy=97.03%, mse=0.00559\n",
      "Epoch 24/30     -> valid_accuracy=95.25%, accuracy=99.11%, mse=0.00225\n",
      "Epoch 25/30     -> valid_accuracy=94.07%, accuracy=99.01%, mse=0.00243\n",
      "Epoch 26/30     -> valid_accuracy=94.36%, accuracy=99.01%, mse=0.00197\n",
      "Epoch 27/30     -> valid_accuracy=94.07%, accuracy=98.42%, mse=0.00252\n",
      "Epoch 28/30     -> valid_accuracy=93.77%, accuracy=97.23%, mse=0.00426\n",
      "Epoch 29/30     -> valid_accuracy=95.25%, accuracy=99.21%, mse=0.00137\n",
      "Epoch 30/30     -> valid_accuracy=95.25%, accuracy=99.41%, mse=0.00117\n"
     ]
    },
    {
     "data": {
      "image/png": "[encoded data removed]",
      "text/plain": [
       "<Figure size 432x288 with 1 Axes>"
      ]
     },
     "metadata": {
      "needs_background": "light"
     },
     "output_type": "display_data"
    },
    {
     "data": {
      "image/png": "[encoded data removed]",
      "text/plain": [
       "<Figure size 432x288 with 1 Axes>"
      ]
     },
     "metadata": {
      "needs_background": "light"
     },
     "output_type": "display_data"
    }
   ],
   "source": [
    "simulation(network_layers=[64, 16, 16, 10], epochs=30, mini_batch_size=10, learning_rate=3.0)"
   ]
  },
  {
   "cell_type": "markdown",
   "id": "8575a804-8f62-4e77-9561-a56c925d70d5",
   "metadata": {},
   "source": [
    "### Testy na zbiorze `MnistSet28`\n",
    "\n",
    "#### Załadowanie zbioru"
   ]
  },
  {
   "cell_type": "code",
   "execution_count": 16,
   "id": "2024f536-287a-44d2-b2cf-11ce626e6a7f",
   "metadata": {},
   "outputs": [],
   "source": [
    "mnist = MnistSet28()\n",
    "training_set = mnist.get_training_set()\n",
    "validating_set = mnist.get_validating_set()\n",
    "testing_set = mnist.get_testing_set()"
   ]
  },
  {
   "cell_type": "markdown",
   "id": "ca5d3096-2f27-48ca-a96f-5a67ca22ef4a",
   "metadata": {},
   "source": [
    "#### Eksperyment 1"
   ]
  },
  {
   "cell_type": "code",
   "execution_count": 17,
   "id": "548db827-76c8-46d3-b792-f253e2796c2a",
   "metadata": {},
   "outputs": [
    {
     "name": "stdout",
     "output_type": "stream",
     "text": [
      "Starting simulation...\n",
      "Epoch 1/20      -> valid_accuracy=91.19%, accuracy=91.57%, mse=0.01431\n",
      "Epoch 2/20      -> valid_accuracy=91.45%, accuracy=91.98%, mse=0.01267\n",
      "Epoch 3/20      -> valid_accuracy=92.27%, accuracy=92.81%, mse=0.01176\n",
      "Epoch 4/20      -> valid_accuracy=92.71%, accuracy=93.38%, mse=0.01129\n",
      "Epoch 5/20      -> valid_accuracy=92.07%, accuracy=92.58%, mse=0.01200\n",
      "Epoch 6/20      -> valid_accuracy=92.61%, accuracy=93.51%, mse=0.01091\n",
      "Epoch 7/20      -> valid_accuracy=92.85%, accuracy=93.86%, mse=0.01034\n",
      "Epoch 8/20      -> valid_accuracy=92.73%, accuracy=93.61%, mse=0.01032\n",
      "Epoch 9/20      -> valid_accuracy=92.88%, accuracy=93.74%, mse=0.01048\n",
      "Epoch 10/20     -> valid_accuracy=92.85%, accuracy=93.51%, mse=0.01079\n",
      "Epoch 11/20     -> valid_accuracy=93.20%, accuracy=94.49%, mse=0.00927\n",
      "Epoch 12/20     -> valid_accuracy=93.17%, accuracy=94.43%, mse=0.00926\n",
      "Epoch 13/20     -> valid_accuracy=93.32%, accuracy=94.51%, mse=0.00926\n",
      "Epoch 14/20     -> valid_accuracy=93.05%, accuracy=94.35%, mse=0.00946\n",
      "Epoch 15/20     -> valid_accuracy=93.39%, accuracy=94.48%, mse=0.00928\n",
      "Epoch 16/20     -> valid_accuracy=92.82%, accuracy=93.98%, mse=0.00995\n",
      "Epoch 17/20     -> valid_accuracy=93.33%, accuracy=94.48%, mse=0.00932\n",
      "Epoch 18/20     -> valid_accuracy=92.87%, accuracy=94.01%, mse=0.00989\n",
      "Epoch 19/20     -> valid_accuracy=93.45%, accuracy=94.91%, mse=0.00849\n",
      "Epoch 20/20     -> valid_accuracy=93.55%, accuracy=94.89%, mse=0.00875\n"
     ]
    },
    {
     "data": {
      "image/png": "[encoded data removed]",
      "text/plain": [
       "<Figure size 432x288 with 1 Axes>"
      ]
     },
     "metadata": {
      "needs_background": "light"
     },
     "output_type": "display_data"
    },
    {
     "data": {
      "image/png": "[encoded data removed]",
      "text/plain": [
       "<Figure size 432x288 with 1 Axes>"
      ]
     },
     "metadata": {
      "needs_background": "light"
     },
     "output_type": "display_data"
    }
   ],
   "source": [
    "simulation(network_layers=[784, 16, 10], epochs=20, mini_batch_size=10, learning_rate=3.0)"
   ]
  }
 ],
 "metadata": {
  "kernelspec": {
   "display_name": "Python 3 (ipykernel)",
   "language": "python",
   "name": "python3"
  },
  "language_info": {
   "codemirror_mode": {
    "name": "ipython",
    "version": 3
   },
   "file_extension": ".py",
   "mimetype": "text/x-python",
   "name": "python",
   "nbconvert_exporter": "python",
   "pygments_lexer": "ipython3",
   "version": "3.10.4"
  }
 },
 "nbformat": 4,
 "nbformat_minor": 5
}
